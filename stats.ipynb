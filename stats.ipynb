{
 "cells": [
  {
   "cell_type": "code",
   "execution_count": 12,
   "id": "5cb2c46f-dab2-45f2-bbc7-2b6a697e4e91",
   "metadata": {},
   "outputs": [],
   "source": [
    "import matplotlib.pyplot as plt\n",
    "import pandas as pd\n",
    "import numpy as np"
   ]
  },
  {
   "cell_type": "code",
   "execution_count": 10,
   "metadata": {},
   "outputs": [
    {
     "name": "stdout",
     "output_type": "stream",
     "text": [
      "1 8459619500\n",
      "1 33886453500\n",
      "1 117363664400\n",
      "2 5778265200\n",
      "2 20541314900\n",
      "2 68453168000\n",
      "3 7099514100\n",
      "3 18345070000\n",
      "3 54787937500\n",
      "4 9559378900\n",
      "4 24913479400\n",
      "4 65266114400\n",
      "5 8840754600\n",
      "5 21160494600\n",
      "5 63860082900\n",
      "6 6122375200\n",
      "6 18528210800\n",
      "6 60603339900\n",
      "7 6381054800\n",
      "7 19521636300\n",
      "7 71879980400\n",
      "8 6474910000\n",
      "8 20262106100\n",
      "8 66968148100\n"
     ]
    }
   ],
   "source": [
    "from os import system\n",
    "res = []\n",
    "for nbThreads in range(1,9):\n",
    "    for nbIndis in [32,64,128]:\n",
    "        # !OMP_NUM_THREADS={nbThread} ./micro_aevol_cpu -w {nbIndis} -h {nbIndis} > /dev/null\n",
    "        cmd = 'OMP_NUM_THREADS={nbThreads} ./micro_aevol_cpu -w {nbIndis} -h {nbIndis}'.format(nbThreads=nbThreads, nbIndis=nbIndis)\n",
    "        system(cmd)\n",
    "        d = pd.read_csv('trace.csv')\n",
    "        d = d[1:]\n",
    "        dur_per_gen = d['Duration']\n",
    "        sum = dur_per_gen.sum()\n",
    "        res.append([sum, nbThreads, nbIndis])\n",
    "        print(nbThreads, sum)"
   ]
  },
  {
   "cell_type": "code",
   "execution_count": 16,
   "metadata": {},
   "outputs": [],
   "source": [
    "tmpRes = res\n",
    "npRes = np.asarray(tmpRes)"
   ]
  },
  {
   "cell_type": "code",
   "execution_count": 20,
   "metadata": {},
   "outputs": [],
   "source": [
    "df = pd.DataFrame(npRes)"
   ]
  },
  {
   "cell_type": "code",
   "execution_count": 26,
   "metadata": {},
   "outputs": [],
   "source": [
    "df = df.rename(columns={0: 'duration', 1: 'nbThreads', 2: 'nbIndis'})"
   ]
  },
  {
   "cell_type": "code",
   "execution_count": 37,
   "metadata": {},
   "outputs": [],
   "source": [
    "df.to_csv('out.csv', index=False)"
   ]
  }
 ],
 "metadata": {
  "interpreter": {
   "hash": "112989f40982219f9c2133127490be09f86560db102a13a350eb86b01002b443"
  },
  "kernelspec": {
   "display_name": "Python 3.8.8 64-bit ('base': conda)",
   "name": "python3"
  },
  "language_info": {
   "codemirror_mode": {
    "name": "ipython",
    "version": 3
   },
   "file_extension": ".py",
   "mimetype": "text/x-python",
   "name": "python",
   "nbconvert_exporter": "python",
   "pygments_lexer": "ipython3",
   "version": "3.8.8"
  }
 },
 "nbformat": 4,
 "nbformat_minor": 5
}
