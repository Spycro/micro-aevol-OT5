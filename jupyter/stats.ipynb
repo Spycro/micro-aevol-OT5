{
 "cells": [
  {
   "cell_type": "code",
   "execution_count": 2,
   "id": "5cb2c46f-dab2-45f2-bbc7-2b6a697e4e91",
   "metadata": {},
   "outputs": [],
   "source": [
    "import matplotlib.pyplot as plt\n",
    "import pandas as pd\n",
    "import numpy as np"
   ]
  },
  {
   "cell_type": "code",
   "execution_count": 10,
   "id": "8a516c89",
   "metadata": {},
   "outputs": [
    {
     "name": "stdout",
     "output_type": "stream",
     "text": [
      "1 8459619500\n",
      "1 33886453500\n",
      "1 117363664400\n",
      "2 5778265200\n",
      "2 20541314900\n",
      "2 68453168000\n",
      "3 7099514100\n",
      "3 18345070000\n",
      "3 54787937500\n",
      "4 9559378900\n",
      "4 24913479400\n",
      "4 65266114400\n",
      "5 8840754600\n",
      "5 21160494600\n",
      "5 63860082900\n",
      "6 6122375200\n",
      "6 18528210800\n",
      "6 60603339900\n",
      "7 6381054800\n",
      "7 19521636300\n",
      "7 71879980400\n",
      "8 6474910000\n",
      "8 20262106100\n",
      "8 66968148100\n"
     ]
    }
   ],
   "source": [
    "from os import system\n",
    "res = []\n",
    "for nbThreads in range(1,9):\n",
    "    for nbIndis in [32,64,128]:\n",
    "        # !OMP_NUM_THREADS={nbThread} ./micro_aevol_cpu -w {nbIndis} -h {nbIndis} > /dev/null\n",
    "        cmd = 'OMP_NUM_THREADS={nbThreads} ./micro_aevol_cpu -w {nbIndis} -h {nbIndis}'.format(nbThreads=nbThreads, nbIndis=nbIndis)\n",
    "        system(cmd)\n",
    "        d = pd.read_csv('trace.csv')\n",
    "        d = d[1:]\n",
    "        dur_per_gen = d['Duration']\n",
    "        sum = dur_per_gen.sum()\n",
    "        res.append([sum, nbThreads, nbIndis])\n",
    "        print(nbThreads, sum)"
   ]
  },
  {
   "cell_type": "code",
   "execution_count": 3,
   "id": "1a338b0d",
   "metadata": {},
   "outputs": [],
   "source": [
    "res = pd.read_csv('proportional.csv')"
   ]
  },
  {
   "cell_type": "code",
   "execution_count": 4,
   "id": "cd565288",
   "metadata": {},
   "outputs": [
    {
     "data": {
      "text/html": [
       "<div>\n",
       "<style scoped>\n",
       "    .dataframe tbody tr th:only-of-type {\n",
       "        vertical-align: middle;\n",
       "    }\n",
       "\n",
       "    .dataframe tbody tr th {\n",
       "        vertical-align: top;\n",
       "    }\n",
       "\n",
       "    .dataframe thead th {\n",
       "        text-align: right;\n",
       "    }\n",
       "</style>\n",
       "<table border=\"1\" class=\"dataframe\">\n",
       "  <thead>\n",
       "    <tr style=\"text-align: right;\">\n",
       "      <th></th>\n",
       "      <th>Unnamed: 0</th>\n",
       "      <th>duration</th>\n",
       "      <th>nbThreads</th>\n",
       "      <th>nbIndis</th>\n",
       "    </tr>\n",
       "  </thead>\n",
       "  <tbody>\n",
       "    <tr>\n",
       "      <th>0</th>\n",
       "      <td>0</td>\n",
       "      <td>5395773900</td>\n",
       "      <td>1</td>\n",
       "      <td>750</td>\n",
       "    </tr>\n",
       "    <tr>\n",
       "      <th>1</th>\n",
       "      <td>1</td>\n",
       "      <td>5463401900</td>\n",
       "      <td>2</td>\n",
       "      <td>1500</td>\n",
       "    </tr>\n",
       "    <tr>\n",
       "      <th>2</th>\n",
       "      <td>2</td>\n",
       "      <td>8367855300</td>\n",
       "      <td>3</td>\n",
       "      <td>2250</td>\n",
       "    </tr>\n",
       "    <tr>\n",
       "      <th>3</th>\n",
       "      <td>3</td>\n",
       "      <td>15876415000</td>\n",
       "      <td>4</td>\n",
       "      <td>3000</td>\n",
       "    </tr>\n",
       "    <tr>\n",
       "      <th>4</th>\n",
       "      <td>4</td>\n",
       "      <td>12566178600</td>\n",
       "      <td>5</td>\n",
       "      <td>3750</td>\n",
       "    </tr>\n",
       "    <tr>\n",
       "      <th>5</th>\n",
       "      <td>5</td>\n",
       "      <td>15597796100</td>\n",
       "      <td>6</td>\n",
       "      <td>4500</td>\n",
       "    </tr>\n",
       "    <tr>\n",
       "      <th>6</th>\n",
       "      <td>6</td>\n",
       "      <td>20990054200</td>\n",
       "      <td>7</td>\n",
       "      <td>5250</td>\n",
       "    </tr>\n",
       "    <tr>\n",
       "      <th>7</th>\n",
       "      <td>7</td>\n",
       "      <td>23127326900</td>\n",
       "      <td>8</td>\n",
       "      <td>6000</td>\n",
       "    </tr>\n",
       "  </tbody>\n",
       "</table>\n",
       "</div>"
      ],
      "text/plain": [
       "   Unnamed: 0     duration  nbThreads  nbIndis\n",
       "0           0   5395773900          1      750\n",
       "1           1   5463401900          2     1500\n",
       "2           2   8367855300          3     2250\n",
       "3           3  15876415000          4     3000\n",
       "4           4  12566178600          5     3750\n",
       "5           5  15597796100          6     4500\n",
       "6           6  20990054200          7     5250\n",
       "7           7  23127326900          8     6000"
      ]
     },
     "execution_count": 4,
     "metadata": {},
     "output_type": "execute_result"
    }
   ],
   "source": [
    "res"
   ]
  },
  {
   "cell_type": "code",
   "execution_count": 7,
   "id": "0815743b",
   "metadata": {},
   "outputs": [
    {
     "data": {
      "text/plain": [
       "<AxesSubplot:xlabel='nbIndis'>"
      ]
     },
     "execution_count": 7,
     "metadata": {},
     "output_type": "execute_result"
    },
    {
     "data": {
      "image/png": "[encoded data removed]",
      "text/plain": [
       "<Figure size 432x288 with 1 Axes>"
      ]
     },
     "metadata": {
      "needs_background": "light"
     },
     "output_type": "display_data"
    }
   ],
   "source": [
    "res.pivot(index='nbIndis', columns='nbThreads', values='duration').plot(kind='bar')"
   ]
  },
  {
   "cell_type": "code",
   "execution_count": null,
   "id": "cc5a449d",
   "metadata": {},
   "outputs": [],
   "source": []
  }
 ],
 "metadata": {
  "interpreter": {
   "hash": "112989f40982219f9c2133127490be09f86560db102a13a350eb86b01002b443"
  },
  "kernelspec": {
   "display_name": "Python 3.8.8 64-bit ('base': conda)",
   "name": "python3"
  },
  "language_info": {
   "codemirror_mode": {
    "name": "ipython",
    "version": 3
   },
   "file_extension": ".py",
   "mimetype": "text/x-python",
   "name": "python",
   "nbconvert_exporter": "python",
   "pygments_lexer": "ipython3",
   "version": "3.8.8"
  }
 },
 "nbformat": 4,
 "nbformat_minor": 5
}
