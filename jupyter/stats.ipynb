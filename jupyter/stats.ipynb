{
 "cells": [
  {
   "cell_type": "code",
   "execution_count": 1,
   "id": "5cb2c46f-dab2-45f2-bbc7-2b6a697e4e91",
   "metadata": {},
   "outputs": [],
   "source": [
    "import matplotlib.pyplot as plt\n",
    "import pandas as pd\n",
    "import numpy as np"
   ]
  },
  {
   "cell_type": "code",
   "execution_count": null,
   "id": "8a516c89",
   "metadata": {},
   "outputs": [],
   "source": [
    "from os import system\n",
    "res = []\n",
    "for nbThreads in range(1,9):\n",
    "    for nbIndis in [32,64,128]:\n",
    "        # !OMP_NUM_THREADS={nbThread} ./micro_aevol_cpu -w {nbIndis} -h {nbIndis} > /dev/null\n",
    "        cmd = 'OMP_NUM_THREADS={nbThreads} ./micro_aevol_cpu -w {nbIndis} -h {nbIndis}'.format(nbThreads=nbThreads, nbIndis=nbIndis)\n",
    "        system(cmd)\n",
    "        d = pd.read_csv('trace.csv')\n",
    "        d = d[1:]\n",
    "        dur_per_gen = d['Duration']\n",
    "        sum = dur_per_gen.sum()\n",
    "        res.append([sum, nbThreads, nbIndis])\n",
    "        print(nbThreads, sum)"
   ]
  },
  {
   "cell_type": "code",
   "execution_count": 46,
   "id": "1a338b0d",
   "metadata": {},
   "outputs": [],
   "source": [
    "res = pd.read_csv('proportional_static.csv')"
   ]
  },
  {
   "cell_type": "code",
   "execution_count": 47,
   "id": "cd565288",
   "metadata": {},
   "outputs": [
    {
     "data": {
      "text/html": [
       "<div>\n",
       "<style scoped>\n",
       "    .dataframe tbody tr th:only-of-type {\n",
       "        vertical-align: middle;\n",
       "    }\n",
       "\n",
       "    .dataframe tbody tr th {\n",
       "        vertical-align: top;\n",
       "    }\n",
       "\n",
       "    .dataframe thead th {\n",
       "        text-align: right;\n",
       "    }\n",
       "</style>\n",
       "<table border=\"1\" class=\"dataframe\">\n",
       "  <thead>\n",
       "    <tr style=\"text-align: right;\">\n",
       "      <th></th>\n",
       "      <th>0</th>\n",
       "      <th>duration</th>\n",
       "      <th>nbThreads</th>\n",
       "      <th>nbIndis</th>\n",
       "      <th>duration_one_thread</th>\n",
       "    </tr>\n",
       "  </thead>\n",
       "  <tbody>\n",
       "    <tr>\n",
       "      <th>0</th>\n",
       "      <td>1</td>\n",
       "      <td>2595724521</td>\n",
       "      <td>1</td>\n",
       "      <td>750</td>\n",
       "      <td>2502320141</td>\n",
       "    </tr>\n",
       "    <tr>\n",
       "      <th>1</th>\n",
       "      <td>2</td>\n",
       "      <td>2039699402</td>\n",
       "      <td>2</td>\n",
       "      <td>1500</td>\n",
       "      <td>3348399255</td>\n",
       "    </tr>\n",
       "    <tr>\n",
       "      <th>2</th>\n",
       "      <td>3</td>\n",
       "      <td>2818839612</td>\n",
       "      <td>3</td>\n",
       "      <td>2250</td>\n",
       "      <td>5539697117</td>\n",
       "    </tr>\n",
       "    <tr>\n",
       "      <th>3</th>\n",
       "      <td>4</td>\n",
       "      <td>3933737838</td>\n",
       "      <td>4</td>\n",
       "      <td>3000</td>\n",
       "      <td>10311472104</td>\n",
       "    </tr>\n",
       "    <tr>\n",
       "      <th>4</th>\n",
       "      <td>5</td>\n",
       "      <td>3413192532</td>\n",
       "      <td>5</td>\n",
       "      <td>3750</td>\n",
       "      <td>8875495916</td>\n",
       "    </tr>\n",
       "    <tr>\n",
       "      <th>5</th>\n",
       "      <td>6</td>\n",
       "      <td>4507670606</td>\n",
       "      <td>6</td>\n",
       "      <td>4500</td>\n",
       "      <td>12356757277</td>\n",
       "    </tr>\n",
       "    <tr>\n",
       "      <th>6</th>\n",
       "      <td>7</td>\n",
       "      <td>5902457706</td>\n",
       "      <td>7</td>\n",
       "      <td>5250</td>\n",
       "      <td>18212241122</td>\n",
       "    </tr>\n",
       "    <tr>\n",
       "      <th>7</th>\n",
       "      <td>8</td>\n",
       "      <td>6184797653</td>\n",
       "      <td>8</td>\n",
       "      <td>6000</td>\n",
       "      <td>19766421576</td>\n",
       "    </tr>\n",
       "  </tbody>\n",
       "</table>\n",
       "</div>"
      ],
      "text/plain": [
       "   0    duration  nbThreads  nbIndis  duration_one_thread\n",
       "0  1  2595724521          1      750           2502320141\n",
       "1  2  2039699402          2     1500           3348399255\n",
       "2  3  2818839612          3     2250           5539697117\n",
       "3  4  3933737838          4     3000          10311472104\n",
       "4  5  3413192532          5     3750           8875495916\n",
       "5  6  4507670606          6     4500          12356757277\n",
       "6  7  5902457706          7     5250          18212241122\n",
       "7  8  6184797653          8     6000          19766421576"
      ]
     },
     "execution_count": 47,
     "metadata": {},
     "output_type": "execute_result"
    }
   ],
   "source": [
    "res"
   ]
  },
  {
   "cell_type": "code",
   "execution_count": 48,
   "id": "0815743b",
   "metadata": {},
   "outputs": [
    {
     "data": {
      "text/plain": [
       "Text(0.5, 1.0, 'Duration of the evolution based on number of Threads')"
      ]
     },
     "execution_count": 48,
     "metadata": {},
     "output_type": "execute_result"
    },
    {
     "data": {
      "image/png": "[encoded data removed]",
      "text/plain": [
       "<Figure size 432x288 with 1 Axes>"
      ]
     },
     "metadata": {
      "needs_background": "light"
     },
     "output_type": "display_data"
    }
   ],
   "source": [
    "fig = plt.figure() # Create matplotlib figure\n",
    "\n",
    "ax = fig.add_subplot(111) # Create matplotlib axes\n",
    "#ax2 = ax.twinx() # Create another axes that shares the same x-axis as ax.\n",
    "\n",
    "width = 0.4\n",
    "ax = res.pivot(index='nbIndis', columns='nbThreads', values='duration').plot(kind='bar', width=0.4, position=1, ax=ax)\n",
    "res.pivot(index='nbIndis', columns='nbThreads', values='duration_one_thread').plot(kind='bar', width=0.4, position=0, ax=ax, legend=False, color=\"black\")\n",
    "ax.set_ylabel('Duration')\n",
    "ax.set_xlabel('Nb Individus')\n",
    "ax.set_title('Duration of the evolution based on number of Threads')"
   ]
  },
  {
   "cell_type": "code",
   "execution_count": null,
   "id": "cc5a449d",
   "metadata": {},
   "outputs": [],
   "source": []
  }
 ],
 "metadata": {
  "interpreter": {
   "hash": "112989f40982219f9c2133127490be09f86560db102a13a350eb86b01002b443"
  },
  "kernelspec": {
   "display_name": "Python 3.8.8 64-bit ('base': conda)",
   "name": "python3"
  },
  "language_info": {
   "codemirror_mode": {
    "name": "ipython",
    "version": 3
   },
   "file_extension": ".py",
   "mimetype": "text/x-python",
   "name": "python",
   "nbconvert_exporter": "python",
   "pygments_lexer": "ipython3",
   "version": "3.8.8"
  }
 },
 "nbformat": 4,
 "nbformat_minor": 5
}
