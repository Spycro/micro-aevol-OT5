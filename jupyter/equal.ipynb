{
 "cells": [
  {
   "cell_type": "code",
   "execution_count": 1,
   "metadata": {},
   "outputs": [],
   "source": [
    "import matplotlib.pyplot as plt\n",
    "import pandas as pd\n",
    "import numpy as np"
   ]
  },
  {
   "cell_type": "code",
   "execution_count": 2,
   "metadata": {},
   "outputs": [
    {
     "name": "stdout",
     "output_type": "stream",
     "text": [
      "1 5395773900\n",
      "2 5463401900\n",
      "3 8367855300\n",
      "4 15876415000\n",
      "5 12566178600\n",
      "6 15597796100\n",
      "7 20990054200\n",
      "8 23127326900\n"
     ]
    }
   ],
   "source": [
    "from os import system\n",
    "res = []\n",
    "base_indiv = 750\n",
    "for nbThreads in range(1,9):\n",
    "    nbIndis = base_indiv * nbThreads\n",
    "    colIndis =  int(np.floor(np.sqrt(nbIndis)))\n",
    "    # !OMP_NUM_THREADS={nbThread} ./micro_aevol_cpu -w {nbIndis} -h {nbIndis} > /dev/null\n",
    "    cmd = 'OMP_NUM_THREADS={nbThreads} ../build/micro_aevol_cpu -w {colIndis} -h {colIndis}'.format(nbThreads=nbThreads, colIndis=colIndis)\n",
    "    system(cmd)\n",
    "    d = pd.read_csv('trace.csv')\n",
    "    d.head()\n",
    "    d = d[1:]\n",
    "    dur_per_gen = d['Duration']\n",
    "    sum = dur_per_gen.sum()\n",
    "    res.append([sum, nbThreads, nbIndis])\n",
    "    print(nbThreads, sum)"
   ]
  },
  {
   "cell_type": "code",
   "execution_count": 11,
   "metadata": {},
   "outputs": [],
   "source": [
    "df = pd.DataFrame(np.asarray(res))"
   ]
  },
  {
   "cell_type": "code",
   "execution_count": 18,
   "metadata": {},
   "outputs": [],
   "source": [
    "df = df.rename(columns={0: 'duration', 1: 'nbThreads', 2:'nbIndis'})"
   ]
  },
  {
   "cell_type": "code",
   "execution_count": 19,
   "metadata": {},
   "outputs": [],
   "source": [
    "df.to_csv('proportional.csv')"
   ]
  }
 ],
 "metadata": {
  "interpreter": {
   "hash": "112989f40982219f9c2133127490be09f86560db102a13a350eb86b01002b443"
  },
  "kernelspec": {
   "display_name": "Python 3.8.8 64-bit ('base': conda)",
   "name": "python3"
  },
  "language_info": {
   "codemirror_mode": {
    "name": "ipython",
    "version": 3
   },
   "file_extension": ".py",
   "mimetype": "text/x-python",
   "name": "python",
   "nbconvert_exporter": "python",
   "pygments_lexer": "ipython3",
   "version": "3.8.8"
  },
  "orig_nbformat": 4
 },
 "nbformat": 4,
 "nbformat_minor": 2
}
