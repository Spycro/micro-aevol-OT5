{
 "cells": [
  {
   "cell_type": "code",
   "execution_count": 1,
   "metadata": {},
   "outputs": [],
   "source": [
    "import matplotlib.pyplot as plt\n",
    "import pandas as pd\n",
    "import numpy as np"
   ]
  },
  {
   "cell_type": "code",
   "execution_count": 2,
   "metadata": {},
   "outputs": [
    {
     "name": "stdout",
     "output_type": "stream",
     "text": [
      "1 6236081900 6253697900\n",
      "2 6849616700 8404213800\n",
      "3 11515466900 13593200500\n",
      "4 17322382100 23823776900\n",
      "5 16459499400 21278310400\n",
      "6 17925829700 28325365600\n",
      "7 23685536800 39324910500\n",
      "8 25687455100 42299435700\n"
     ]
    }
   ],
   "source": [
    "from os import system\n",
    "res = [['duration', 'nbThreads', 'nbIndis', 'duration_one_thread']]\n",
    "base_indiv = 750\n",
    "for nbThreads in range(1,9):\n",
    "    nbIndis = base_indiv * nbThreads\n",
    "    colIndis =  int(np.floor(np.sqrt(nbIndis)))\n",
    "    # !OMP_NUM_THREADS={nbThread} ./micro_aevol_cpu -w {nbIndis} -h {nbIndis} > /dev/null\n",
    "    cmd_one = 'OMP_NUM_THREADS=1 ../build/micro_aevol_cpu -w {colIndis} -h {colIndis}'.format(colIndis=colIndis)\n",
    "    cmd = 'OMP_NUM_THREADS={nbThreads} ../build/micro_aevol_cpu -w {colIndis} -h {colIndis}'.format(nbThreads=nbThreads, colIndis=colIndis)\n",
    "    # One thread only\n",
    "    system(cmd_one)\n",
    "    d = pd.read_csv('trace.csv')\n",
    "    d = d[1:]\n",
    "    dur_per_gen = d['Duration']\n",
    "    sum_for_one = dur_per_gen.sum()\n",
    "    # multiple threads\n",
    "    system(cmd)\n",
    "    d = pd.read_csv('trace.csv')\n",
    "    d = d[1:]\n",
    "    dur_per_gen = d['Duration']\n",
    "    sum = dur_per_gen.sum()\n",
    "    res.append([sum, nbThreads, nbIndis, sum_for_one])\n",
    "    print(nbThreads, sum, sum_for_one)"
   ]
  },
  {
   "cell_type": "code",
   "execution_count": 11,
   "metadata": {},
   "outputs": [],
   "source": [
    "df = pd.DataFrame(np.asarray(res))"
   ]
  },
  {
   "cell_type": "code",
   "execution_count": 18,
   "metadata": {},
   "outputs": [],
   "source": [
    "df = df.rename(columns={0: 'duration', 1: 'nbThreads', 2:'nbIndis'})"
   ]
  },
  {
   "cell_type": "code",
   "execution_count": 19,
   "metadata": {},
   "outputs": [],
   "source": [
    "df.to_csv('proportional.csv')"
   ]
  }
 ],
 "metadata": {
  "interpreter": {
   "hash": "112989f40982219f9c2133127490be09f86560db102a13a350eb86b01002b443"
  },
  "kernelspec": {
   "display_name": "Python 3.8.8 64-bit ('base': conda)",
   "name": "python3"
  },
  "language_info": {
   "codemirror_mode": {
    "name": "ipython",
    "version": 3
   },
   "file_extension": ".py",
   "mimetype": "text/x-python",
   "name": "python",
   "nbconvert_exporter": "python",
   "pygments_lexer": "ipython3",
   "version": "3.8.8"
  },
  "orig_nbformat": 4
 },
 "nbformat": 4,
 "nbformat_minor": 2
}
