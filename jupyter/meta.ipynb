{
 "cells": [
  {
   "cell_type": "code",
   "execution_count": 43,
   "metadata": {},
   "outputs": [],
   "source": [
    "import matplotlib.pyplot as plt\n",
    "import pandas as pd\n",
    "import numpy as np\n",
    "from functools import reduce"
   ]
  },
  {
   "cell_type": "code",
   "execution_count": 75,
   "metadata": {},
   "outputs": [
    {
     "data": {
      "text/plain": [
       "['micro_aevol_cpu_dynamic_4.csv',\n",
       " 'micro_aevol_cpu_dynamic_16.csv',\n",
       " 'micro_aevol_cpu_static.csv',\n",
       " 'micro_aevol_cpu_dynamic_8.csv',\n",
       " 'micro_aevol_cpu_dynamic_32.csv',\n",
       " 'micro_aevol_cpu_dynamic_128.csv',\n",
       " 'micro_aevol_cpu_dynamic_64.csv',\n",
       " 'micro_aevol_cpu_dynamic_2.csv',\n",
       " 'micro_aevol_cpu_dynamic_3.csv',\n",
       " 'micro_aevol_cpu_dynamic_1.csv',\n",
       " 'micro_aevol_cpu_guided.csv']"
      ]
     },
     "execution_count": 75,
     "metadata": {},
     "output_type": "execute_result"
    }
   ],
   "source": [
    "from os import system, listdir\n",
    "from os.path import join, isfile\n",
    "\n",
    "csvs = [f for f in listdir('./dataout') if isfile(join('./dataout', f))]\n",
    "csvs"
   ]
  },
  {
   "cell_type": "code",
   "execution_count": 76,
   "metadata": {},
   "outputs": [
    {
     "data": {
      "text/plain": [
       "[   0  duration_dyn_4  nbThreads  nbIndis\n",
       " 0  1      2444694448          1     1250\n",
       " 1  2      3969287511          2     2500\n",
       " 2  3      4738802345          3     3750\n",
       " 3  4      5830863157          4     5000\n",
       " 4  5      7087431413          5     6250\n",
       " 5  6      5893361792          6     7500\n",
       " 6  7     10674691249          7     8750\n",
       " 7  8     10014832443          8    10000,\n",
       "    0  duration_dyn_16  nbThreads  nbIndis\n",
       " 0  1       2944074203          1     1250\n",
       " 1  2       4279615755          2     2500\n",
       " 2  3       4841407104          3     3750\n",
       " 3  4       6027624136          4     5000\n",
       " 4  5       7280479928          5     6250\n",
       " 5  6       6593836820          6     7500\n",
       " 6  7      11844837055          7     8750\n",
       " 7  8      11453924849          8    10000,\n",
       "    0  duration_static  nbThreads  nbIndis\n",
       " 0  1       2787763317          1     1250\n",
       " 1  2       4369122120          2     2500\n",
       " 2  3       4914868277          3     3750\n",
       " 3  4       6096033340          4     5000\n",
       " 4  5       8172358369          5     6250\n",
       " 5  6       6503909643          6     7500\n",
       " 6  7      12334725187          7     8750\n",
       " 7  8      11414739466          8    10000,\n",
       "    0  duration_dyn_8  nbThreads  nbIndis\n",
       " 0  1      3143607046          1     1250\n",
       " 1  2      4622915896          2     2500\n",
       " 2  3      5369727801          3     3750\n",
       " 3  4      6553945468          4     5000\n",
       " 4  5      8347902463          5     6250\n",
       " 5  6      8548438232          6     7500\n",
       " 6  7     13230373166          7     8750\n",
       " 7  8     12331424519          8    10000,\n",
       "    0  duration_dyn_32  nbThreads  nbIndis\n",
       " 0  1       2995245358          1     1250\n",
       " 1  2       4519506749          2     2500\n",
       " 2  3       4954627857          3     3750\n",
       " 3  4       6247314485          4     5000\n",
       " 4  5       7811298183          5     6250\n",
       " 5  6       6966913689          6     7500\n",
       " 6  7      12601520939          7     8750\n",
       " 7  8      10799188418          8    10000,\n",
       "    0  duration_dyn_128  nbThreads  nbIndis\n",
       " 0  1        2913456172          1     1250\n",
       " 1  2        4772537106          2     2500\n",
       " 2  3        5431245772          3     3750\n",
       " 3  4        7913299727          4     5000\n",
       " 4  5        8105843484          5     6250\n",
       " 5  6        7442225719          6     7500\n",
       " 6  7       13279958758          7     8750\n",
       " 7  8       12468841213          8    10000,\n",
       "    0  duration_dyn_64  nbThreads  nbIndis\n",
       " 0  1       2711901475          1     1250\n",
       " 1  2       4091712080          2     2500\n",
       " 2  3       4844138885          3     3750\n",
       " 3  4       5694987800          4     5000\n",
       " 4  5       7098990614          5     6250\n",
       " 5  6       6347649513          6     7500\n",
       " 6  7      11664965302          7     8750\n",
       " 7  8      10637076525          8    10000,\n",
       "    0  duration_dyn_2  nbThreads  nbIndis\n",
       " 0  1      3180179730          1     1250\n",
       " 1  2      4610662028          2     2500\n",
       " 2  3      5404596550          3     3750\n",
       " 3  4      6586062140          4     5000\n",
       " 4  5      8501807475          5     6250\n",
       " 5  6      7613849215          6     7500\n",
       " 6  7     14110343901          7     8750\n",
       " 7  8     12932405322          8    10000,\n",
       "    0  duration_dyn_3  nbThreads  nbIndis\n",
       " 0  1      2861596751          1     1250\n",
       " 1  2      4324362678          2     2500\n",
       " 2  3      4855488214          3     3750\n",
       " 3  4      6108994755          4     5000\n",
       " 4  5      7832796063          5     6250\n",
       " 5  6      7739320310          6     7500\n",
       " 6  7     12800510742          7     8750\n",
       " 7  8     13055467097          8    10000,\n",
       "    0  duration_dyn_1  nbThreads  nbIndis\n",
       " 0  1      2553147768          1     1250\n",
       " 1  2      3767664376          2     2500\n",
       " 2  3      4200356802          3     3750\n",
       " 3  4      5414563969          4     5000\n",
       " 4  5      6638680602          5     6250\n",
       " 5  6      6436688693          6     7500\n",
       " 6  7     10984779587          7     8750\n",
       " 7  8     11395149380          8    10000,\n",
       "    0  duration_guided  nbThreads  nbIndis\n",
       " 0  1       2622687822          1     1250\n",
       " 1  2       4115136546          2     2500\n",
       " 2  3       4488396926          3     3750\n",
       " 3  4       5578604351          4     5000\n",
       " 4  5       7382996721          5     6250\n",
       " 5  6       6339536687          6     7500\n",
       " 6  7      10878179464          7     8750\n",
       " 7  8      10468792654          8    10000]"
      ]
     },
     "execution_count": 76,
     "metadata": {},
     "output_type": "execute_result"
    }
   ],
   "source": [
    "frames = [pd.read_csv(join('./dataout',f)) for f in csv]\n",
    "frames"
   ]
  },
  {
   "cell_type": "code",
   "execution_count": null,
   "metadata": {},
   "outputs": [],
   "source": [
    "dyn_1.drop(columns='duration_one_thread', inplace=True)\n",
    "dyn_2.drop(columns='duration_one_thread', inplace=True)\n",
    "dyn_3.drop(columns='duration_one_thread', inplace=True)\n",
    "dyn_4.drop(columns='duration_one_thread', inplace=True)\n",
    "dyn_8.drop(columns='duration_one_thread', inplace=True)\n",
    "dyn_16.drop(columns='duration_one_thread', inplace=True)\n",
    "dyn_32.drop(columns='duration_one_thread', inplace=True)\n",
    "dyn_64.drop(columns='duration_one_thread', inplace=True)\n",
    "dyn_128.drop(columns='duration_one_thread', inplace=True)\n",
    "guided.drop(columns='duration_one_thread', inplace=True)\n",
    "static.drop(columns='duration_one_thread', inplace=True)\n"
   ]
  },
  {
   "cell_type": "code",
   "execution_count": 47,
   "metadata": {},
   "outputs": [],
   "source": [
    "dyn_1.rename(columns={'duration': 'duration_dyn_1'}, inplace=True)\n",
    "dyn_2.rename(columns={'duration': 'duration_dyn_2'}, inplace=True)\n",
    "dyn_3.rename(columns={'duration': 'duration_dyn_3'}, inplace=True)\n",
    "dyn_4.rename(columns={'duration': 'duration_dyn_4'}, inplace=True)\n",
    "dyn_8.rename(columns={'duration': 'duration_dyn_8'}, inplace=True)\n",
    "dyn_16.rename(columns={'duration': 'duration_dyn_16'}, inplace=True)\n",
    "dyn_32.rename(columns={'duration': 'duration_dyn_32'}, inplace=True)\n",
    "dyn_64.rename(columns={'duration': 'duration_dyn_64'}, inplace=True)\n",
    "dyn_128.rename(columns={'duration': 'duration_dyn_128'}, inplace=True)\n",
    "guided.rename(columns={'duration': 'duration_guided'}, inplace=True)\n",
    "static.rename(columns={'duration': 'duration_static'}, inplace=True)\n"
   ]
  },
  {
   "cell_type": "code",
   "execution_count": 48,
   "metadata": {},
   "outputs": [],
   "source": [
    "data_frames = [dyn_1, dyn_2, dyn_3, dyn_4, dyn_8, dyn_16, dyn_32, dyn_64, dyn_128, guided, static]\n"
   ]
  },
  {
   "cell_type": "code",
   "execution_count": 77,
   "metadata": {},
   "outputs": [],
   "source": [
    "data_merged = reduce(lambda left, right: pd.merge(left, right, on=['nbThreads', 'nbIndis', '0']), frames)\n",
    "data_merged.drop(columns='0', inplace=True)"
   ]
  },
  {
   "cell_type": "code",
   "execution_count": 78,
   "metadata": {},
   "outputs": [
    {
     "data": {
      "text/plain": [
       "<AxesSubplot:xlabel='nbIndis'>"
      ]
     },
     "execution_count": 78,
     "metadata": {},
     "output_type": "execute_result"
    },
    {
     "data": {
      "image/png": "[encoded data removed]",
      "text/plain": [
       "<Figure size 1080x720 with 1 Axes>"
      ]
     },
     "metadata": {
      "needs_background": "light"
     },
     "output_type": "display_data"
    }
   ],
   "source": [
    "data_merged.plot(x='nbIndis', y=['duration_dyn_1', 'duration_dyn_2', 'duration_dyn_3', 'duration_dyn_4', 'duration_dyn_8', 'duration_dyn_16', 'duration_dyn_32', 'duration_dyn_64', 'duration_dyn_128', 'duration_guided', 'duration_static'], kind='bar', width=0.8, figsize=(15, 10))"
   ]
  }
 ],
 "metadata": {
  "interpreter": {
   "hash": "112989f40982219f9c2133127490be09f86560db102a13a350eb86b01002b443"
  },
  "kernelspec": {
   "display_name": "Python 3.8.8 64-bit ('base': conda)",
   "name": "python3"
  },
  "language_info": {
   "codemirror_mode": {
    "name": "ipython",
    "version": 3
   },
   "file_extension": ".py",
   "mimetype": "text/x-python",
   "name": "python",
   "nbconvert_exporter": "python",
   "pygments_lexer": "ipython3",
   "version": "3.8.8"
  },
  "orig_nbformat": 4
 },
 "nbformat": 4,
 "nbformat_minor": 2
}
